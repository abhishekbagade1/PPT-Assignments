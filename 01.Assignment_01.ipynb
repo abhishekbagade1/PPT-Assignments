{
 "cells": [
  {
   "cell_type": "code",
   "execution_count": null,
   "id": "5543ae85-7bb9-470b-bd5b-0b5e462b798f",
   "metadata": {},
   "outputs": [],
   "source": [
    "Q1.Given an array of integers nums and an integer target, return indices of the two numbers such that they add up to target.\n",
    "\n",
    "You may assume that each input would have exactly one solution, and you may not use the same element twice.\n",
    "\n",
    "You can return the answer in any order.\n",
    "\n",
    "Example:\n",
    "Input: nums = [2,7,11,15], target = 9\n",
    "Output0 [0,1]\n",
    "\n",
    "Explanation: \n",
    "Because nums[0] + nums[1] == 9, we return [0, 1]\n"
   ]
  },
  {
   "cell_type": "code",
   "execution_count": 10,
   "id": "0889b8ac-fc5a-4a85-a969-32352dc2651b",
   "metadata": {},
   "outputs": [
    {
     "name": "stdout",
     "output_type": "stream",
     "text": [
      "[2, 3]\n"
     ]
    }
   ],
   "source": [
    "class solution:\n",
    "    def twoSum (self, nums : list[int], target: int) -> list[int]:\n",
    "        left = 0 \n",
    "        right = len(nums) - 1\n",
    "        \n",
    "        tempSum = 0\n",
    "        \n",
    "        while(left < right):\n",
    "            tempSum = nums[left] + nums[right]\n",
    "            \n",
    "            if (tempSum == target):\n",
    "                return list((left, right))\n",
    "            elif (tempSum < target):\n",
    "                left += 1\n",
    "            elif (tempSum > target):\n",
    "                right += 1\n",
    "             \n",
    "        return list((-1,-1))\n",
    "        \n",
    "\n",
    "nums = [2, 7, 11, 15]      \n",
    "target = 26  \n",
    "obj = solution()  \n",
    "print(obj.twoSum(nums, target)) \n",
    "        "
   ]
  },
  {
   "cell_type": "code",
   "execution_count": null,
   "id": "4e9f979e-8ef3-48b9-a61a-a41aafd9dd33",
   "metadata": {},
   "outputs": [],
   "source": [
    "Q2.Given an integer array nums and an integer val, remove all occurrences of val in nums in-place. The order of the elements may be changed. Then return the number of elements in nums which are not equal to val.\n",
    "\n",
    "Consider the number of elements in nums which are not equal to val be k, to get accepted, you need to do the following things:\n",
    "\n",
    "- Change the array nums such that the first k elements of nums contain the elements which are not equal to val. The remaining elements of nums are not important as well as the size of nums.\n",
    "- Return k.\n",
    "\n",
    "Example :\n",
    "Input: nums = [3,2,2,3], val = 3\n",
    "Output: 2, nums = [2,2,_*,_*]\n",
    "\n",
    "Explanation: Your function should return k = 2, with the first two elements of nums being 2. It does not matter what you leave beyond the returned k (hence they are underscores)[\n"
   ]
  },
  {
   "cell_type": "code",
   "execution_count": 23,
   "id": "e8a39ce1-0362-43ec-85dc-b9970e9c7244",
   "metadata": {},
   "outputs": [
    {
     "name": "stdout",
     "output_type": "stream",
     "text": [
      "5\n"
     ]
    }
   ],
   "source": [
    "class solution:\n",
    "    \n",
    "    def remove(self, nums: list[int], val: int) -> int:\n",
    "        \n",
    "        count = 0\n",
    "        \n",
    "        for i in range(len(nums)):\n",
    "            \n",
    "            if (nums[i] != val):\n",
    "                nums[count] = nums[i]\n",
    "                count += 1\n",
    "            \n",
    "        return count\n",
    "                \n",
    "nums = [0,1,2,2,3,0,4,2]\n",
    "val = 2\n",
    "obj = solution()\n",
    "print(obj.remove(nums,val))\n"
   ]
  },
  {
   "cell_type": "code",
   "execution_count": null,
   "id": "58180a37-8094-4cd1-885f-d30d0dff3dd6",
   "metadata": {},
   "outputs": [],
   "source": [
    "Q3.Given a sorted array of distinct integers and a target value, return the index if the target is found. If not, return the index where it would be if it were inserted in order.\n",
    "\n",
    "You must write an algorithm with O(log n) runtime complexity.\n",
    "\n",
    "Example 1:\n",
    "Input: nums = [1,3,5,6], target = 5\n",
    "\n",
    "Output: 2\n"
   ]
  },
  {
   "cell_type": "code",
   "execution_count": 35,
   "id": "9766a605-04ba-46ea-a03d-65d56a69586a",
   "metadata": {},
   "outputs": [
    {
     "name": "stdout",
     "output_type": "stream",
     "text": [
      "2\n"
     ]
    }
   ],
   "source": [
    "class solution:\n",
    "    def findTarget(self, nums: list[int], target : int) -> int:\n",
    "        start = 0 \n",
    "        end = len(nums) - 1\n",
    "        while (start <= end):\n",
    "            \n",
    "            mid = int( (start + end)/2)\n",
    "             \n",
    "            if nums[mid] == target:\n",
    "                return mid\n",
    "            \n",
    "            elif target > nums[mid]:\n",
    "                start = mid + 1  \n",
    "           \n",
    "            else:\n",
    "                end = mid -1\n",
    "        return end + 1\n",
    "\n",
    "nums = [1,3,5,6] \n",
    "target = 5\n",
    "obj = solution()\n",
    "print(obj.findTarget(nums,target))\n"
   ]
  },
  {
   "cell_type": "code",
   "execution_count": null,
   "id": "5b05a647-c2a6-4ec4-8dbe-87e6563e3910",
   "metadata": {},
   "outputs": [],
   "source": [
    "Q4. You are given a large integer represented as an integer array digits, where each digits[i] is the ith digit of the integer. The digits are ordered from most significant to least significant in left-to-right order. The large integer does not contain any leading 0's.\n",
    "\n",
    "Increment the large integer by one and return the resulting array of digits.\n",
    "\n",
    "Example 1:\n",
    "Input: digits = [1,2,3]\n",
    "Output: [1,2,4]\n",
    "\n",
    "Explanation: The array represents the integer 123.\n",
    "\n",
    "Incrementing by one gives 123 + 1 = 124.\n",
    "Thus, the result should be [1,2,4]."
   ]
  },
  {
   "cell_type": "code",
   "execution_count": 3,
   "id": "152e7b5a-c1c2-4ec0-bcce-945fa7ebce8a",
   "metadata": {},
   "outputs": [
    {
     "name": "stdout",
     "output_type": "stream",
     "text": [
      "[1, 2, 6]\n"
     ]
    }
   ],
   "source": [
    "class Solution:\n",
    "    def plusOne(self, digits: list[int]) -> list[int]:\n",
    "        n = len(digits)\n",
    "        for i in range(n - 1, -1, -1):\n",
    "            digits[i] += 1\n",
    "            digits[i] %= 10\n",
    "            if digits[i] != 0:\n",
    "                return digits\n",
    "        return [1] + digits\n",
    "    \n",
    "digits = [1,2,5]\n",
    "obj = Solution()\n",
    "print(obj.plusOne(digits))"
   ]
  },
  {
   "cell_type": "code",
   "execution_count": null,
   "id": "05e77026-7794-4a4f-896a-0125ffd9f817",
   "metadata": {},
   "outputs": [],
   "source": [
    "Q5. You are given two integer arrays nums1 and nums2, sorted in non-decreasing order, and two integers m and n, representing the number of elements in nums1 and nums2 respectively.\n",
    "\n",
    "Merge nums1 and nums2 into a single array sorted in non-decreasing order.\n",
    "\n",
    "The final sorted array should not be returned by the function, but instead be stored inside the array nums1. To accommodate this, nums1 has a length of m + n, where the first m elements denote the elements that should be merged, and the last n elements are set to 0 and should be ignored. nums2 has a length of n.\n",
    "\n",
    "Example 1:\n",
    "Input: nums1 = [1,2,3,0,0,0], m = 3, nums2 = [2,5,6], n = 3\n",
    "Output: [1,2,2,3,5,6]\n",
    "\n",
    "Explanation: The arrays we are merging are [1,2,3] and [2,5,6].\n",
    "The result of the merge is [1,2,2,3,5,6] with the underlined elements coming from nums1."
   ]
  },
  {
   "cell_type": "code",
   "execution_count": 41,
   "id": "d19ffbdf-7bf6-4fe2-9469-3e74f8310d4d",
   "metadata": {},
   "outputs": [
    {
     "name": "stdout",
     "output_type": "stream",
     "text": [
      "[1, 2, 2, 3, 5, 6]\n"
     ]
    }
   ],
   "source": [
    "class Solution:\n",
    "    def merge(self, nums1: list[int], nums2: list[int], m: int, n: int) -> None:\n",
    "        k = m + n - 1    \n",
    "        i = m -1\n",
    "        j = n-1\n",
    "\n",
    "        while j >= 0:\n",
    "            if i >= 0 and nums1[i] > nums2[j]:\n",
    "                \n",
    "                nums1[k] = nums1[i]\n",
    "                i -= 1\n",
    "            else:\n",
    "                nums1[k] = nums2[j]\n",
    "                j -= 1\n",
    "            k -= 1\n",
    "        \n",
    "        \n",
    "nums1 = [1,2,3,0,0,0]\n",
    "m = 3\n",
    "nums2 = [2,5,6]\n",
    "n = 3\n",
    "\n",
    "obj = Solution()\n",
    "obj.merge(nums1, nums2, m, n)\n",
    "print(nums1[:])\n"
   ]
  },
  {
   "cell_type": "code",
   "execution_count": null,
   "id": "029dd293-d955-46ae-b127-4275c6b0cca3",
   "metadata": {},
   "outputs": [],
   "source": [
    "Q6. Given an integer array nums, return true if any value appears at least twice in the array, and return false if every element is distinct.\n",
    "\n",
    "Example 1:\n",
    "Input: nums = [1,2,3,1]\n",
    "\n",
    "Output: true\n"
   ]
  },
  {
   "cell_type": "code",
   "execution_count": 25,
   "id": "84683172-6735-4626-89d8-b4fd7ec15981",
   "metadata": {},
   "outputs": [
    {
     "name": "stdout",
     "output_type": "stream",
     "text": [
      "True\n"
     ]
    }
   ],
   "source": [
    "class solution:\n",
    "    def constainsDuplicate(self, nums: list[int]) -> bool:\n",
    "        nums.sort()\n",
    "        for i in range(1, len(nums)):\n",
    "            if(nums[i] == nums[i-1]):\n",
    "                return True\n",
    "        return False\n",
    "\n",
    "nums = [1,2,3,1]\n",
    "obj = solution()\n",
    "print(obj.constainsDuplicate(nums))"
   ]
  },
  {
   "cell_type": "code",
   "execution_count": null,
   "id": "130f50e5-352a-4940-9044-b7b243a24479",
   "metadata": {},
   "outputs": [],
   "source": [
    "Q7.Given an integer array nums, move all 0s to the end of it while maintaining the relative order of the nonzero elements.\n",
    "\n",
    "Note that you must do this in-place without making a copy of the array.\n",
    "\n",
    "Example 1:\n",
    "Input: nums = [0,1,0,3,12]\n",
    "Output: [1,3,12,0,0]\n"
   ]
  },
  {
   "cell_type": "code",
   "execution_count": 42,
   "id": "ceecd997-f1e2-495e-a69e-14c764942eb1",
   "metadata": {},
   "outputs": [
    {
     "name": "stdout",
     "output_type": "stream",
     "text": [
      "[1, 3, 12, 0, 0]\n"
     ]
    }
   ],
   "source": [
    "class solution:\n",
    "    def moveZeros(self, nums: list[int]) -> None:\n",
    "        left, n = 0, len(nums)\n",
    "        for right in range(n):\n",
    "            if nums[right] != 0:\n",
    "                nums[left], nums[right] = nums[right], nums[left]\n",
    "                left += 1\n",
    "       \n",
    "        \n",
    "nums = [0,1,0,3,12]\n",
    "\n",
    "obj = solution()\n",
    "obj.moveZeros(nums)\n",
    "print(nums[:])"
   ]
  },
  {
   "cell_type": "code",
   "execution_count": null,
   "id": "822b4cd0-3554-4d85-b4d0-30965246ec38",
   "metadata": {},
   "outputs": [],
   "source": [
    "Q8. You have a set of integers s, which originally contains all the numbers from 1 to n. Unfortunately, due to some error, one of the numbers in s got duplicated to another number in the set, which results in repetition of one number and loss of another number.\n",
    "\n",
    "You are given an integer array nums representing the data status of this set after the error.\n",
    "\n",
    "Find the number that occurs twice and the number that is missing and return them in the form of an array.\n",
    "\n",
    "Example 1:\n",
    "Input: nums = [1,2,2,4]\n",
    "Output: [2,3]"
   ]
  },
  {
   "cell_type": "code",
   "execution_count": 5,
   "id": "ad0e9feb-2c68-43d7-b8ad-ae5f7973e6be",
   "metadata": {},
   "outputs": [
    {
     "name": "stdout",
     "output_type": "stream",
     "text": [
      "[2, 3]\n"
     ]
    }
   ],
   "source": [
    "class Solution:\n",
    "  def findErrorNums(self, nums: list[int]) -> list[int]:\n",
    "    for num in nums:\n",
    "      if nums[abs(num) - 1] < 0:\n",
    "        duplicate = abs(num)\n",
    "      else:\n",
    "        nums[abs(num) - 1] *= -1\n",
    "\n",
    "    for i, num in enumerate(nums):\n",
    "      if num > 0:\n",
    "        return [duplicate, i + 1]\n",
    "\n",
    "nums = [1,2,2,4]\n",
    "obj = Solution()\n",
    "print(obj.findErrorNums(nums))\n"
   ]
  },
  {
   "cell_type": "code",
   "execution_count": null,
   "id": "739a3268-2164-422a-9880-9489999efa92",
   "metadata": {},
   "outputs": [],
   "source": []
  }
 ],
 "metadata": {
  "kernelspec": {
   "display_name": "Python 3 (ipykernel)",
   "language": "python",
   "name": "python3"
  },
  "language_info": {
   "codemirror_mode": {
    "name": "ipython",
    "version": 3
   },
   "file_extension": ".py",
   "mimetype": "text/x-python",
   "name": "python",
   "nbconvert_exporter": "python",
   "pygments_lexer": "ipython3",
   "version": "3.10.6"
  }
 },
 "nbformat": 4,
 "nbformat_minor": 5
}
